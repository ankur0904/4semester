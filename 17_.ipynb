{
  "nbformat": 4,
  "nbformat_minor": 0,
  "metadata": {
    "colab": {
      "provenance": []
    },
    "kernelspec": {
      "name": "python3",
      "display_name": "Python 3"
    },
    "language_info": {
      "name": "python"
    }
  },
  "cells": [
    {
      "cell_type": "code",
      "source": [
        "class Node:\n",
        "    def __init__(self, data):\n",
        "        self.data = data\n",
        "        self.next = None\n",
        "class LinkedList:\n",
        "    def __init__(self):\n",
        "        self.head = None\n",
        "    def reverse(self):\n",
        "        prev = None\n",
        "        current = self.head\n",
        "        while(current is not None):\n",
        "            next = current.next\n",
        "            current.next = prev\n",
        "            prev = current\n",
        "            current = next\n",
        "        self.head = prev\n",
        "    def push(self, new_data):\n",
        "        new_node = Node(new_data)\n",
        "        new_node.next = self.head\n",
        "        self.head = new_node\n",
        "    def printList(self):\n",
        "        temp = self.head\n",
        "        while(temp):\n",
        "            print (temp.data,end=\" \")\n",
        "            temp = temp.next\n",
        "llist = LinkedList()\n",
        "llist.push(20)\n",
        "llist.push(4)\n",
        "llist.push(15)\n",
        "llist.push(85)\n",
        "  \n",
        "print (\"Given Linked List\")\n",
        "llist.printList()\n",
        "llist.reverse()\n",
        "print (\"\\nReversed Linked List\")\n",
        "llist.printList()"
      ],
      "metadata": {
        "colab": {
          "base_uri": "https://localhost:8080/"
        },
        "id": "PagSDaU7fBga",
        "outputId": "c623be49-bed3-4194-ba39-43179eaef53a"
      },
      "execution_count": null,
      "outputs": [
        {
          "output_type": "stream",
          "name": "stdout",
          "text": [
            "Given Linked List\n",
            "85 15 4 20 \n",
            "Reversed Linked List\n",
            "20 4 15 85 "
          ]
        }
      ]
    },
    {
      "cell_type": "code",
      "source": [
        "class Node:\n",
        "   def __init__(self, data):\n",
        "        self.data = data\n",
        "        self.next = None\n",
        "class Stack:\n",
        "    def __init__(self):\n",
        "        self.head = None\n",
        "    def isempty(self):\n",
        "        if self.head == None:\n",
        "            return True\n",
        "        else:\n",
        "            return False\n",
        "    def push(self, data):\n",
        "      if self.head == None:\n",
        "            self.head = Node(data)\n",
        "      else:\n",
        "            newnode = Node(data)\n",
        "            newnode.next = self.head\n",
        "            self.head = newnode\n",
        "    def pop(self):\n",
        "      if self.isempty():\n",
        "            return None\n",
        "  \n",
        "      else:\n",
        "            poppednode = self.head\n",
        "            self.head = self.head.next\n",
        "            poppednode.next = None\n",
        "            return poppednode.data\n",
        "    def peek(self):\n",
        "        if self.isempty():\n",
        "            return None\n",
        "        else:\n",
        "            return self.head.data\n",
        "    def display(self):\n",
        "        iternode = self.head\n",
        "        if self.isempty():\n",
        "            print(\"Stack Underflow\")\n",
        "        else:\n",
        "            while(iternode != None):\n",
        "                print(iternode.data, end = \"\")\n",
        "                iternode = iternode.next\n",
        "                if(iternode != None):\n",
        "                    print(\" -> \", end = \"\")\n",
        "            return\n",
        "if __name__ == \"__main__\":\n",
        "  MyStack = Stack()\n",
        "  MyStack.push(11)\n",
        "  MyStack.push(22)\n",
        "  MyStack.push(33)\n",
        "  MyStack.push(44)\n",
        "  MyStack.display()\n",
        "  print(\"\\nTop element is \", MyStack.peek())\n",
        "  MyStack.pop()\n",
        "  MyStack.pop()\n",
        "  MyStack.display()\n",
        "  print(\"\\nTop element is \", MyStack.peek())"
      ],
      "metadata": {
        "colab": {
          "base_uri": "https://localhost:8080/"
        },
        "id": "rAINOkXafikw",
        "outputId": "dcbae70c-f47b-42f5-ec72-ed7524b92dd2"
      },
      "execution_count": null,
      "outputs": [
        {
          "output_type": "stream",
          "name": "stdout",
          "text": [
            "44 -> 33 -> 22 -> 11\n",
            "Top element is  44\n",
            "22 -> 11\n",
            "Top element is  22\n"
          ]
        }
      ]
    },
    {
      "cell_type": "code",
      "source": [
        "class Node:\n",
        "    def __init__(self, data):\n",
        "        self.data = data  \n",
        "        self.next = None \n",
        "class LinkedList:\n",
        "    def __init__(self):\n",
        "        self.head = None\n",
        "    def push(self, new_data):\n",
        "        new_node = Node(new_data)\n",
        "        new_node.next = self.head\n",
        "        self.head = new_node\n",
        "    def getCount(self):\n",
        "        temp = self.head  \n",
        "        count = 0 \n",
        "        while (temp):\n",
        "            count += 1\n",
        "            temp = temp.next\n",
        "        return count\n",
        "if __name__ == '__main__':\n",
        "    llist = LinkedList()\n",
        "    llist.push(1)\n",
        "    llist.push(3)\n",
        "    llist.push(1)\n",
        "    llist.push(2)\n",
        "    llist.push(1)\n",
        "    print(\"Count of nodes is :\", llist.getCount())"
      ],
      "metadata": {
        "colab": {
          "base_uri": "https://localhost:8080/"
        },
        "id": "Z0XIRmBzgjou",
        "outputId": "144dd4ba-b857-4a0c-fcd6-070e5bcd9ce5"
      },
      "execution_count": null,
      "outputs": [
        {
          "output_type": "stream",
          "name": "stdout",
          "text": [
            "Count of nodes is : 5\n"
          ]
        }
      ]
    }
  ]
}