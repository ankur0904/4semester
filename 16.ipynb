{
  "nbformat": 4,
  "nbformat_minor": 0,
  "metadata": {
    "colab": {
      "provenance": []
    },
    "kernelspec": {
      "name": "python3",
      "display_name": "Python 3"
    },
    "language_info": {
      "name": "python"
    }
  },
  "cells": [
    {
      "cell_type": "code",
      "source": [
        "# Python program for traversal of a linked list\n",
        "class Node:\n",
        "\tdef __init__(self, data):\n",
        "\t\tself.data = data \n",
        "\t\tself.next = None \n",
        "class LinkedList:\n",
        "\tdef __init__(self):\n",
        "\t\tself.head = None\n",
        "\tdef printList(self):\n",
        "\t\ttemp = self.head\n",
        "\t\twhile (temp):\n",
        "\t\t\tprint(temp.data)\n",
        "\t\t\ttemp = temp.next\n",
        "llist = LinkedList()\n",
        "llist.head = Node(1)\n",
        "second = Node(2)\n",
        "third = Node(3)\n",
        "llist.head.next = second \n",
        "second.next = third \n",
        "llist.printList()\n"
      ],
      "metadata": {
        "colab": {
          "base_uri": "https://localhost:8080/"
        },
        "id": "8Ja3QPWmGaHW",
        "outputId": "9ddcc351-37a7-43a8-f555-fc128142f10a"
      },
      "execution_count": null,
      "outputs": [
        {
          "output_type": "stream",
          "name": "stdout",
          "text": [
            "1\n",
            "2\n",
            "3\n"
          ]
        }
      ]
    },
    {
      "cell_type": "code",
      "source": [
        "# Node class\n",
        "class Node:\n",
        "\tdef __init__(self, data):\n",
        "\t\tself.data = data \n",
        "\t\tself.next = None\n",
        "class LinkedList:\n",
        "\tdef __init__(self):\n",
        "\t\tself.head = None\n",
        "  "
      ],
      "metadata": {
        "id": "vCbUGjC3Hknd"
      },
      "execution_count": null,
      "outputs": []
    },
    {
      "cell_type": "code",
      "source": [
        "class LL:\n",
        "  class Node:\n",
        "    def __init__(self, value, next=None):\n",
        "      self.value = value\n",
        "      self.next = next\n",
        "\n",
        "  def __init__(self):\n",
        "    self.head = None\n",
        "    self.tail = None\n",
        "    self.size = 0\n",
        "\n",
        "  def display(self):\n",
        "    temp = self.head\n",
        "    while temp is not None:\n",
        "      print(f\"{temp.value} -> \", end=\"\")\n",
        "      temp = temp.next\n",
        "    print(\"END\")\n",
        "\n",
        "  def insert_first(self, val):\n",
        "    node = self.Node(val, self.head)\n",
        "    self.head = node\n",
        "    if self.tail is None:\n",
        "      self.tail = self.head\n",
        "    self.size += 1\n",
        "\n",
        "  def insert_last(self, val):\n",
        "    if self.tail is None:\n",
        "      self.insert_first(val)\n",
        "      return\n",
        "    node = self.Node(val)\n",
        "    self.tail.next = node\n",
        "    self.tail = node\n",
        "    self.size += 1\n",
        "\n",
        "  def insert(self, val, index):\n",
        "    if index == 0:\n",
        "      self.insert_first(val)\n",
        "      return\n",
        "    if index == self.size:\n",
        "      self.insert_last(val)\n",
        "      return\n",
        "    temp = self.head\n",
        "    for i in range(1, index):\n",
        "      temp = temp.next\n",
        "    node = self.Node(val, temp.next)\n",
        "    temp.next = node\n",
        "    self.size += 1\n",
        "t=LL()\n",
        "t.display()\n",
        "t.insert_first(2)\n",
        "t.insert_last(8)\n",
        "t.insert(3,1)\n",
        "t.display()"
      ],
      "metadata": {
        "colab": {
          "base_uri": "https://localhost:8080/"
        },
        "id": "bhc0zi2YKmh4",
        "outputId": "2b3e3ad2-adfb-4d30-958c-a8ac9c1d8494"
      },
      "execution_count": null,
      "outputs": [
        {
          "output_type": "stream",
          "name": "stdout",
          "text": [
            "END\n",
            "2 -> 3 -> 8 -> END\n"
          ]
        }
      ]
    }
  ]
}