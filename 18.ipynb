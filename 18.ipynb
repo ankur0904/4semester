{
  "nbformat": 4,
  "nbformat_minor": 0,
  "metadata": {
    "colab": {
      "provenance": []
    },
    "kernelspec": {
      "name": "python3",
      "display_name": "Python 3"
    },
    "language_info": {
      "name": "python"
    }
  },
  "cells": [
    {
      "cell_type": "code",
      "execution_count": null,
      "metadata": {
        "colab": {
          "base_uri": "https://localhost:8080/"
        },
        "id": "4MUk1-vDLmKp",
        "outputId": "51788fa5-36a3-46e7-e6ec-86b0bcf7871f"
      },
      "outputs": [
        {
          "output_type": "stream",
          "name": "stdout",
          "text": [
            "Decimal Value is 11\n"
          ]
        }
      ],
      "source": [
        "class Node:\n",
        "    def __init__(self, data):\n",
        "        self.data = data\n",
        "        self.next = None\n",
        "class LinkedList:\n",
        "   def __init__(self):\n",
        "        self.head = None\n",
        "   def decimalValue(self, head):\n",
        "        res = 0\n",
        "        while head:\n",
        "            res = (res << 1) + head.data\n",
        "            head = head.next\n",
        "        return res\n",
        "if __name__ == '__main__':\n",
        "    llist = LinkedList()\n",
        "    llist.head = Node(1)\n",
        "    llist.head.next = Node(0)\n",
        "    llist.head.next.next = Node(1)\n",
        "    llist.head.next.next.next = Node(1)\n",
        "    print(\"Decimal Value is {}\".format(\n",
        "           llist.decimalValue(llist.head)))"
      ]
    },
    {
      "cell_type": "code",
      "source": [
        "#find the middle element of a linked list\n",
        "class Node:\n",
        "\tdef __init__(self, data=None, next=None):\n",
        "\t\tself.data = data\n",
        "\t\tself.next = next\n",
        "\n",
        "class NodeOperation:\n",
        "\tdef pushNode(self, head_ref, data_val):\n",
        "\t\tnew_node = Node(data=data_val)\n",
        "\t\tnew_node.next = head_ref[0]\n",
        "\t\thead_ref[0] = new_node\n",
        "\n",
        "if __name__ == \"__main__\":\n",
        "\thead = [None]\n",
        "\ttemp = NodeOperation()\n",
        "\tfor i in range(5, 0, -1):\n",
        "\t\ttemp.pushNode(head, i)\n",
        "\tv = []\n",
        "\twhile head[0]:\n",
        "\t\tv.append(head[0].data)\n",
        "\t\thead[0] = head[0].next\n",
        "\tprint(\"Middle Value Of Linked List is :\", v[len(v)//2])\n"
      ],
      "metadata": {
        "colab": {
          "base_uri": "https://localhost:8080/"
        },
        "id": "zuSgegwofDpc",
        "outputId": "ce219831-0295-4a93-e225-c3be412c8988"
      },
      "execution_count": null,
      "outputs": [
        {
          "output_type": "stream",
          "name": "stdout",
          "text": [
            "Middle Value Of Linked List is : 3\n"
          ]
        }
      ]
    },
    {
      "cell_type": "code",
      "source": [
        "#deletion from linked list\n",
        "class Node:\n",
        "\tdef __init__(self, data):\n",
        "\t\tself.data = data\n",
        "\t\tself.next = None\n",
        "class LinkedList:\n",
        "\tdef __init__(self):\n",
        "\t\tself.head = None\n",
        "\tdef push(self, new_data):\n",
        "\t\tnew_node = Node(new_data)\n",
        "\t\tnew_node.next = self.head\n",
        "\t\tself.head = new_node\n",
        "\tdef deleteNode(self, key):\n",
        "\t\ttemp = self.head\n",
        "\t\tif (temp is not None):\n",
        "\t\t\tif (temp.data == key):\n",
        "\t\t\t\tself.head = temp.next\n",
        "\t\t\t\ttemp = None\n",
        "\t\t\t\treturn\n",
        "\t\twhile(temp is not None):\n",
        "\t\t\tif temp.data == key:\n",
        "\t\t\t\tbreak\n",
        "\t\t\tprev = temp\n",
        "\t\t\ttemp = temp.next\n",
        "\t\tif(temp == None):\n",
        "\t\t\treturn\n",
        "\t\tprev.next = temp.next\n",
        "\t\ttemp = None\n",
        "\tdef printList(self):\n",
        "\t\ttemp = self.head\n",
        "\t\twhile(temp):\n",
        "\t\t\tprint ((temp.data))\n",
        "\t\t\ttemp = temp.next\n",
        "llist = LinkedList()\n",
        "llist.push(7)\n",
        "llist.push(1)\n",
        "llist.push(3)\n",
        "llist.push(2)\n",
        "print (\"Created Linked List: \")\n",
        "llist.printList()\n",
        "llist.deleteNode(1)\n",
        "print (\"Linked List after Deletion of 1:\")\n",
        "llist.printList()"
      ],
      "metadata": {
        "colab": {
          "base_uri": "https://localhost:8080/"
        },
        "id": "ANfsFI94hXK6",
        "outputId": "3bdebece-506a-49e0-f455-3d7fb05269a0"
      },
      "execution_count": null,
      "outputs": [
        {
          "output_type": "stream",
          "name": "stdout",
          "text": [
            "Created Linked List: \n",
            "2\n",
            "3\n",
            "1\n",
            "7\n",
            "Linked List after Deletion of 1:\n",
            "2\n",
            "3\n",
            "7\n"
          ]
        }
      ]
    }
  ]
}