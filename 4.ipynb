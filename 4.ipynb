{
  "nbformat": 4,
  "nbformat_minor": 0,
  "metadata": {
    "colab": {
      "provenance": []
    },
    "kernelspec": {
      "name": "python3",
      "display_name": "Python 3"
    },
    "language_info": {
      "name": "python"
    }
  },
  "cells": [
    {
      "cell_type": "code",
      "execution_count": null,
      "metadata": {
        "colab": {
          "base_uri": "https://localhost:8080/"
        },
        "id": "zhVFiw9g4OlY",
        "outputId": "99d5077b-d799-45c6-a0b7-af67c29d5f26"
      },
      "outputs": [
        {
          "output_type": "stream",
          "name": "stdout",
          "text": [
            "200.96\n",
            "50.24\n"
          ]
        }
      ],
      "source": [
        "class Circle():\n",
        "    def __init__(self, r):\n",
        "        self.radius = r\n",
        "\n",
        "    def area(self):\n",
        "        return self.radius**2*3.14\n",
        "    \n",
        "    def perimeter(self):\n",
        "        return 2*self.radius*3.14\n",
        "\n",
        "NewCircle = Circle(8)\n",
        "print(NewCircle.area())\n",
        "print(NewCircle.perimeter())"
      ]
    },
    {
      "cell_type": "code",
      "source": [
        "class IOString():\n",
        "    def __init__(self):\n",
        "        self.str1 = \"\"\n",
        "\n",
        "    def get_String(self):\n",
        "        self.str1 = input()\n",
        "\n",
        "    def print_String(self):\n",
        "        print(self.str1.upper())\n",
        "\n",
        "str1 = IOString()\n",
        "str1.get_String()\n",
        "str1.print_String()\n"
      ],
      "metadata": {
        "colab": {
          "base_uri": "https://localhost:8080/"
        },
        "id": "lg4-Wev87Eak",
        "outputId": "7e59608b-08ad-4af5-8698-a21c729b2835"
      },
      "execution_count": null,
      "outputs": [
        {
          "output_type": "stream",
          "name": "stdout",
          "text": [
            "anshika\n",
            "ANSHIKA\n"
          ]
        }
      ]
    },
    {
      "cell_type": "code",
      "source": [
        "class py_solution:\n",
        "    def int_to_Roman(self, num):\n",
        "        val = [\n",
        "            1000, 900, 500, 400,\n",
        "            100, 90, 50, 40,\n",
        "            10, 9, 5, 4,\n",
        "            1\n",
        "            ]\n",
        "        syb = [\n",
        "            \"M\", \"CM\", \"D\", \"CD\",\n",
        "            \"C\", \"XC\", \"L\", \"XL\",\n",
        "            \"X\", \"IX\", \"V\", \"IV\",\n",
        "            \"I\"\n",
        "            ]\n",
        "        roman_num = ''\n",
        "        i = 0\n",
        "        while  num > 0:\n",
        "            for j in range(num // val[i]):\n",
        "                roman_num += syb[i]\n",
        "                num -= val[i]\n",
        "            i += 1\n",
        "        return roman_num\n",
        "\n",
        "\n",
        "print(py_solution().int_to_Roman(1))\n",
        "print(py_solution().int_to_Roman(4000))"
      ],
      "metadata": {
        "colab": {
          "base_uri": "https://localhost:8080/"
        },
        "id": "QXKNeqji7dY-",
        "outputId": "a80d3355-1e72-47c4-c606-06ea2b8cff44"
      },
      "execution_count": null,
      "outputs": [
        {
          "output_type": "stream",
          "name": "stdout",
          "text": [
            "I\n",
            "MMMM\n"
          ]
        }
      ]
    }
  ]
}