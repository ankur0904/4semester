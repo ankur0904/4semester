{
  "nbformat": 4,
  "nbformat_minor": 0,
  "metadata": {
    "colab": {
      "provenance": []
    },
    "kernelspec": {
      "name": "python3",
      "display_name": "Python 3"
    },
    "language_info": {
      "name": "python"
    }
  },
  "cells": [
    {
      "cell_type": "code",
      "execution_count": null,
      "metadata": {
        "colab": {
          "base_uri": "https://localhost:8080/"
        },
        "id": "xB91E7A7t9B5",
        "outputId": "50b8eaff-240e-40bb-87d7-c4a3aad8f1f8"
      },
      "outputs": [
        {
          "output_type": "stream",
          "name": "stdout",
          "text": [
            "YES\n"
          ]
        }
      ],
      "source": [
        "class Node:\n",
        "\tdef __init__(self, key):\n",
        "\t\tself.key = key\n",
        "\t\tself.next = None\n",
        "class LinkedList:\n",
        "\tdef __init__(self):\n",
        "\t\tself.head = None\n",
        "\tdef push(self, new_key):\n",
        "\t\tnew_node = Node(new_key)\n",
        "\t\tnew_node.next = self.head\n",
        "\t\tself.head = new_node\n",
        "llist = LinkedList()\n",
        "llist.push(10)\n",
        "llist.push(30)\n",
        "llist.push(11)\n",
        "llist.push(21)\n",
        "llist.push(14)\n",
        "x = 21\n",
        "temp = llist.head\n",
        "v = []\n",
        "while(temp):\n",
        "\tv.append(temp.key)\n",
        "\ttemp = temp.next\n",
        "if x in v:\n",
        "\tprint(\"YES\")\n",
        "else:\n",
        "\tprint(\"NO\")\n"
      ]
    },
    {
      "cell_type": "code",
      "source": [
        "class Node:\n",
        "\tdef __init__(self, key):\n",
        "\t\tself.key = key\n",
        "\t\tself.next = None\n",
        "def NewNode(key):\n",
        "\treturn Node(key)\n",
        "a = Node(5)\n",
        "a.next = Node(10)\n",
        "a.next.next = Node(15)\n",
        "a.next.next.next = Node(40)\n",
        "b = Node(2)\n",
        "b.next = Node(3)\n",
        "b.next.next = Node(20)\n",
        "v = []\n",
        "while(a is not None):\n",
        "\tv.append(a.key)\n",
        "\ta = a.next\n",
        "while(b is not None):\n",
        "\tv.append(b.key)\n",
        "\tb = b.next\n",
        "v.sort()\n",
        "result = Node(-1)\n",
        "temp = result\n",
        "for i in range(len(v)):\n",
        "\tresult.next = Node(v[i])\n",
        "\tresult = result.next\n",
        "temp = temp.next\n",
        "print(\"Resultant Merge Linked List is : \")\n",
        "while(temp is not None):\n",
        "\tprint(temp.key, end=\" \")\n",
        "\ttemp = temp.next"
      ],
      "metadata": {
        "colab": {
          "base_uri": "https://localhost:8080/"
        },
        "id": "9972GY-3us5M",
        "outputId": "0d39e2cf-99c5-400c-b068-bd3f71ad1b66"
      },
      "execution_count": null,
      "outputs": [
        {
          "output_type": "stream",
          "name": "stdout",
          "text": [
            "Resultant Merge Linked List is : \n",
            "2 3 5 10 15 20 40 "
          ]
        }
      ]
    },
    {
      "cell_type": "code",
      "source": [
        "# Define a class for Checking Palindrome number\n",
        "class Check :\n",
        "    def __init__(self,number) :\n",
        "        self.num = number\n",
        "    def isPalindrome(self) :\n",
        "        temp = self.num\n",
        "        result = 0\n",
        "        while(temp != 0) :\n",
        "            rem = temp % 10\n",
        "            result =  result * 10 + rem\n",
        "            temp //= 10\n",
        "        if self.num == result :\n",
        "            print(self.num,\"is Palindrome\")\n",
        "        else :\n",
        "            print(self.num,\"is not Palindrome\")\n",
        "if __name__ == \"__main__\" :\n",
        "    num = 151\n",
        "    check_Palindrome = Check(num)\n",
        "    check_Palindrome.isPalindrome()\n",
        "    num = 127\n",
        "    check_Palindrome = Check(num)\n",
        "    check_Palindrome.isPalindrome()"
      ],
      "metadata": {
        "colab": {
          "base_uri": "https://localhost:8080/"
        },
        "id": "_n734yCkvIjj",
        "outputId": "6aa8d6fe-5fb2-4b99-82a0-69577712569e"
      },
      "execution_count": null,
      "outputs": [
        {
          "output_type": "stream",
          "name": "stdout",
          "text": [
            "151 is Palindrome\n",
            "127 is not Palindrome\n"
          ]
        }
      ]
    }
  ]
}