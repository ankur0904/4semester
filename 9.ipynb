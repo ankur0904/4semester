{
  "nbformat": 4,
  "nbformat_minor": 0,
  "metadata": {
    "colab": {
      "provenance": []
    },
    "kernelspec": {
      "name": "python3",
      "display_name": "Python 3"
    },
    "language_info": {
      "name": "python"
    }
  },
  "cells": [
    {
      "cell_type": "code",
      "source": [
        "#wap to reverse a string using stack\n",
        "class stack:\n",
        "  def __init__(self):\n",
        "    self.items=[]\n",
        "  def isempty(self):\n",
        "    return self.items==[]\n",
        "  def push(self,data):\n",
        "    self.items.append(data)\n",
        "  def pop(self):\n",
        "    return self.items.pop()\n",
        "s=stack()\n",
        "text=input()\n",
        "for i in text:\n",
        "  s.push(i)\n",
        "x=''\n",
        "while not s.isempty():\n",
        "  x=x+s.pop()\n",
        "print(x)"
      ],
      "metadata": {
        "colab": {
          "base_uri": "https://localhost:8080/"
        },
        "id": "GUFM4Lw5SE5T",
        "outputId": "739f5bbb-db90-4e57-feb3-951497427e97"
      },
      "execution_count": null,
      "outputs": [
        {
          "output_type": "stream",
          "name": "stdout",
          "text": [
            "wer\n",
            "rew\n"
          ]
        }
      ]
    },
    {
      "cell_type": "code",
      "source": [
        "#check whether a string is pallindrome or not\n",
        "class stack:\n",
        "  def __init__(self):\n",
        "    self.items=[]\n",
        "  def isempty(self):\n",
        "    return self.items==[]\n",
        "  def push(self,data):\n",
        "    self.items.append(data)\n",
        "  def pop(self):\n",
        "    return self.items.pop()\n",
        "s=stack()\n",
        "text=input()\n",
        "for i in text:\n",
        "  s.push(i)\n",
        "x=''\n",
        "while not s.isempty():\n",
        "  x=x+s.pop()\n",
        "if text==x:\n",
        "  print(\"yes\")\n",
        "else:\n",
        "  print(\"no\")"
      ],
      "metadata": {
        "colab": {
          "base_uri": "https://localhost:8080/"
        },
        "id": "Jh-o_yu1TDCT",
        "outputId": "cc7a3522-4359-478e-e5c1-4ed4fcfe88fe"
      },
      "execution_count": null,
      "outputs": [
        {
          "output_type": "stream",
          "name": "stdout",
          "text": [
            "kanak\n",
            "yes\n"
          ]
        }
      ]
    },
    {
      "cell_type": "code",
      "source": [
        "#infix to postfix\n",
        "Operators = set(['+', '-', '*', '/', '(', ')', '^']) \n",
        "Priority = {'+':1, '-':1, '*':2, '/':2, '^':3} \n",
        "def infixToPostfix(expression): \n",
        "  stack = [] \n",
        "  output = '' \n",
        "  for character in expression:\n",
        "    if character not in Operators: \n",
        "            output+= character\n",
        "    elif character=='(': \n",
        "            stack.append('(')\n",
        "    elif character==')':\n",
        "            while stack and stack[-1]!= '(':\n",
        "                output+=stack.pop()\n",
        "            stack.pop()\n",
        "    else: \n",
        "            while stack and stack[-1]!='(' and Priority[character]<=Priority[stack[-1]]:\n",
        "                output+=stack.pop()\n",
        "            stack.append(character)\n",
        "  while stack:\n",
        "        output+=stack.pop()\n",
        "  return output\n",
        "expression = input()\n",
        "print(infixToPostfix(expression))"
      ],
      "metadata": {
        "colab": {
          "base_uri": "https://localhost:8080/"
        },
        "id": "5bx2gbnBUKKs",
        "outputId": "71bf79d8-e7e7-43ff-96e9-9b7c7ed61160"
      },
      "execution_count": null,
      "outputs": [
        {
          "output_type": "stream",
          "name": "stdout",
          "text": [
            "m*n+(p-q)+r\n",
            "mn*pq-+r+\n"
          ]
        }
      ]
    }
  ]
}