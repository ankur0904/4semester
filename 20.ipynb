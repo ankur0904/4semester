{
  "nbformat": 4,
  "nbformat_minor": 0,
  "metadata": {
    "colab": {
      "provenance": []
    },
    "kernelspec": {
      "name": "python3",
      "display_name": "Python 3"
    },
    "language_info": {
      "name": "python"
    }
  },
  "cells": [
    {
      "cell_type": "code",
      "execution_count": null,
      "metadata": {
        "colab": {
          "base_uri": "https://localhost:8080/"
        },
        "id": "G3JXWAtGsY4P",
        "outputId": "f6ad4c35-7a47-4651-8857-0ff377a583c9"
      },
      "outputs": [
        {
          "output_type": "stream",
          "name": "stdout",
          "text": [
            "The parents of each node are:\n",
            "1 ->Root\n",
            "2 -> 1\n",
            "5 -> 2\n",
            "6 -> 2\n",
            "3 -> 1\n",
            "4 -> 1\n",
            "7 -> 4\n",
            "The children of each node are:\n",
            "1 ->  2   3   4   \n",
            "\n",
            "2 ->  5   6   \n",
            "\n",
            "3 ->  \n",
            "\n",
            "4 ->  7   \n",
            "\n",
            "5 ->  \n",
            "\n",
            "6 ->  \n",
            "\n",
            "7 ->  \n",
            "\n",
            "The leaf nodes of the tree are:\n",
            "3 5 6 7 \n",
            "\n",
            "The degrees of each node are:\n",
            "1 :  3\n",
            "2 :  2\n",
            "3 :  0\n",
            "4 :  1\n",
            "5 :  0\n",
            "6 :  0\n",
            "7 :  0\n"
          ]
        }
      ],
      "source": [
        "def printParents(node, adj, parent):\n",
        "\tif (parent == 0):\n",
        "\t\tprint(node, \"->Root\")\n",
        "\telse:\n",
        "\t\tprint(node, \"->\", parent)\n",
        "\tfor cur in adj[node]:\n",
        "\t\tif (cur != parent):\n",
        "\t\t\tprintParents(cur, adj, node)\n",
        "def printChildren(Root, adj):\n",
        "\tq = []\n",
        "\tq.append(Root)\n",
        "\tvis = [0]*len(adj)\n",
        "\twhile (len(q) > 0):\n",
        "\t\tnode = q[0]\n",
        "\t\tq.pop(0)\n",
        "\t\tvis[node] = 1\n",
        "\t\tprint(node, \"-> \", end=\" \")\n",
        "\t\tfor cur in adj[node]:\n",
        "\t\t\tif (vis[cur] == 0):\n",
        "\t\t\t\tprint(cur, \" \", end=\" \")\n",
        "\t\t\t\tq.append(cur)\n",
        "\t\tprint(\"\\n\")\n",
        "def printLeafNodes(Root, adj):\n",
        "\tfor i in range(0, len(adj)):\n",
        "\t\tif (len(adj[i]) == 1 and i != Root):\n",
        "\t\t\tprint(i, end=\" \")\n",
        "\tprint(\"\\n\")\n",
        "def printDegrees(Root, adj):\n",
        "\tfor i in range(1, len(adj)):\n",
        "\t\tprint(i, \": \", end=\" \")\n",
        "\t\tif (i == Root):\n",
        "\t\t\tprint(len(adj[i]))\n",
        "\t\telse:\n",
        "\t\t\tprint(len(adj[i])-1)\n",
        "N = 7\n",
        "Root = 1\n",
        "adj = []\n",
        "for i in range(0, N+1):\n",
        "\tadj.append([])\n",
        "adj[1].append(2)\n",
        "adj[2].append(1)\n",
        "adj[1].append(3)\n",
        "adj[3].append(1)\n",
        "adj[1].append(4)\n",
        "adj[4].append(1)\n",
        "adj[2].append(5)\n",
        "adj[5].append(2)\n",
        "adj[2].append(6)\n",
        "adj[6].append(2)\n",
        "adj[4].append(7)\n",
        "adj[7].append(4)\n",
        "print(\"The parents of each node are:\")\n",
        "printParents(Root, adj, 0)\n",
        "print(\"The children of each node are:\")\n",
        "printChildren(Root, adj)\n",
        "print(\"The leaf nodes of the tree are:\")\n",
        "printLeafNodes(Root, adj)\n",
        "print(\"The degrees of each node are:\")\n",
        "printDegrees(Root, adj)\n",
        "\n",
        "\n"
      ]
    },
    {
      "cell_type": "code",
      "source": [
        "# program to for tree traversals\n",
        "class Node:\n",
        "\tdef __init__(self, key):\n",
        "\t\tself.left = None\n",
        "\t\tself.right = None\n",
        "\t\tself.val = key\n",
        "def printInorder(root):\n",
        "\tif root:\n",
        "\t\tprintInorder(root.left)\n",
        "\t\tprint(root.val)\n",
        "\t\tprintInorder(root.right)\n",
        "if __name__ == \"__main__\":\n",
        "\troot = Node(1)\n",
        "\troot.left = Node(2)\n",
        "\troot.right = Node(3)\n",
        "\troot.left.left = Node(4)\n",
        "\troot.left.right = Node(5)\n",
        "\tprint (\" Inorder traversal of binary tree is\")\n",
        "\tprintInorder(root)\n"
      ],
      "metadata": {
        "colab": {
          "base_uri": "https://localhost:8080/"
        },
        "id": "Eo8pmSfu9h4g",
        "outputId": "eb192c85-ca80-40c9-b677-fc37bc61e7dd"
      },
      "execution_count": null,
      "outputs": [
        {
          "output_type": "stream",
          "name": "stdout",
          "text": [
            " Inorder traversal of binary tree is\n",
            "4\n",
            "2\n",
            "5\n",
            "1\n",
            "3\n"
          ]
        }
      ]
    },
    {
      "cell_type": "code",
      "source": [
        "# Python3 program to for tree traversals\n",
        "class Node:\n",
        "\tdef __init__(self, key):\n",
        "\t\tself.left = None\n",
        "\t\tself.right = None\n",
        "\t\tself.val = key\n",
        "def printPreorder(root):\n",
        "\tif root:\n",
        "\t\tprint(root.val)\n",
        "\t\tprintPreorder(root.left)\n",
        "\t\tprintPreorder(root.right)\n",
        "\n",
        "root = Node(1)\n",
        "root.left = Node(2)\n",
        "root.right = Node(3)\n",
        "root.left.left = Node(4)\n",
        "root.left.right = Node(5)\n",
        "\n",
        "# Function call\n",
        "print (\"Preorder traversal of binary tree is\")\n",
        "printPreorder(root)\n"
      ],
      "metadata": {
        "colab": {
          "base_uri": "https://localhost:8080/"
        },
        "id": "b1tgYev1-lYn",
        "outputId": "c57be34a-e8c5-4491-86ea-b8260b231f4f"
      },
      "execution_count": null,
      "outputs": [
        {
          "output_type": "stream",
          "name": "stdout",
          "text": [
            "Preorder traversal of binary tree is\n",
            "1\n",
            "2\n",
            "4\n",
            "5\n",
            "3\n"
          ]
        }
      ]
    }
  ]
}