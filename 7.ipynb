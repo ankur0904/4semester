{
  "nbformat": 4,
  "nbformat_minor": 0,
  "metadata": {
    "colab": {
      "provenance": []
    },
    "kernelspec": {
      "name": "python3",
      "display_name": "Python 3"
    },
    "language_info": {
      "name": "python"
    }
  },
  "cells": [
    {
      "cell_type": "code",
      "execution_count": null,
      "metadata": {
        "colab": {
          "base_uri": "https://localhost:8080/"
        },
        "id": "FIaE6q8_vfM8",
        "outputId": "b2f76729-3102-43f6-a715-eda6ef94c136"
      },
      "outputs": [
        {
          "output_type": "stream",
          "name": "stdout",
          "text": [
            "[100, 56, 23, 2, 1, 0, -9]\n"
          ]
        }
      ],
      "source": [
        "#selection sort descending\n",
        "l=[1,2,-9,0,56,100,23]\n",
        "for i in range(len(l)-1):\n",
        "  midx=i\n",
        "  for j in range(i+1,len(l)):\n",
        "    if l[j]>l[midx]:\n",
        "      midx=j\n",
        "  l[i],l[midx]=l[midx],l[i]\n",
        "print(l)"
      ]
    },
    {
      "cell_type": "code",
      "source": [
        "def insertionSort(array):\n",
        "  for step in range(1, len(array)):\n",
        "        key = array[step]\n",
        "        j = step - 1\n",
        "        while j >= 0 and key < array[j]:\n",
        "            array[j + 1] = array[j]\n",
        "            j = j - 1\n",
        "        array[j + 1] = key\n",
        "data = [9, 5, 1, 4, 3]\n",
        "insertionSort(data)\n",
        "print(data)"
      ],
      "metadata": {
        "colab": {
          "base_uri": "https://localhost:8080/"
        },
        "id": "_aIK6SlD0IpD",
        "outputId": "b18b8700-438d-48fa-abd2-f50a80b6c18c"
      },
      "execution_count": null,
      "outputs": [
        {
          "output_type": "stream",
          "name": "stdout",
          "text": [
            "[1, 3, 4, 5, 9]\n"
          ]
        }
      ]
    },
    {
      "cell_type": "code",
      "source": [
        "#bubblesort\n",
        "l=eval(input())\n",
        "for i in range(len(l)-1):\n",
        "  for j in range(i+1,len(l)):\n",
        "    if l[i]>l[j]:\n",
        "      l[i],l[j]=l[j],l[i]\n",
        "print(l)"
      ],
      "metadata": {
        "colab": {
          "base_uri": "https://localhost:8080/"
        },
        "id": "QsG0mnmL1cC5",
        "outputId": "18bffc58-e97d-45cb-d4c0-58da48506e91"
      },
      "execution_count": null,
      "outputs": [
        {
          "output_type": "stream",
          "name": "stdout",
          "text": [
            "[-2, 45, 0, 11, -9]\n",
            "[-9, -2, 0, 11, 45]\n"
          ]
        }
      ]
    },
    {
      "cell_type": "code",
      "source": [],
      "metadata": {
        "id": "4-QcFN021wtJ"
      },
      "execution_count": null,
      "outputs": []
    }
  ]
}