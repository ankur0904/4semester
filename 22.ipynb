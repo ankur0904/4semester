{
  "nbformat": 4,
  "nbformat_minor": 0,
  "metadata": {
    "colab": {
      "provenance": []
    },
    "kernelspec": {
      "name": "python3",
      "display_name": "Python 3"
    },
    "language_info": {
      "name": "python"
    }
  },
  "cells": [
    {
      "cell_type": "code",
      "execution_count": null,
      "metadata": {
        "colab": {
          "base_uri": "https://localhost:8080/"
        },
        "id": "XqS9fZUxIVjs",
        "outputId": "ee186c17-a703-4e52-dd0d-9866c46e0896"
      },
      "outputs": [
        {
          "output_type": "stream",
          "name": "stdout",
          "text": [
            "3\n"
          ]
        }
      ],
      "source": [
        "#Python program to find height of full binary tree  using preorder\n",
        "def findDepthRec(tree, n, index) :\n",
        "\tif (index[0] >= n or tree[index[0]] == 'l'):\n",
        "\t\treturn 0\n",
        "\tindex[0] += 1\n",
        "\tleft = findDepthRec(tree, n, index)\n",
        "\tindex[0] += 1\n",
        "\tright = findDepthRec(tree, n, index)\n",
        "\treturn (max(left, right) + 1)\n",
        "def findDepth(tree, n) :\n",
        "\tindex = [0]\n",
        "\treturn findDepthRec(tree, n, index)\n",
        "if __name__ == '__main__':\n",
        "\ttree= \"nlnnlll\"\n",
        "\tn = len(tree)\n",
        "\tprint(findDepth(tree, n))\n"
      ]
    },
    {
      "cell_type": "code",
      "source": [
        "#program to construct tree using inorder and level order traversals\n",
        "class Node:\n",
        "\tdef __init__(self, key):\n",
        "\t\tself.data = key\n",
        "\t\tself.left = None\n",
        "\t\tself.right = None\n",
        "def buildTree(level, ino):\n",
        "\tif ino:\n",
        "\t\tfor i in range(0, len(level)):\n",
        "\t\t\tif level[i] in ino:\n",
        "\t\t\t\tnode = Node(level[i])\n",
        "\t\t\t\tio_index = ino.index(level[i])\n",
        "\t\t\t\tbreak\n",
        "\t\tnode.left = buildTree(level, ino[0:io_index])\n",
        "\t\tnode.right = buildTree(level, ino[io_index + 1:len(ino)])\n",
        "\t\treturn node\n",
        "\telse:\n",
        "\t\treturn None\n",
        "def printInorder(node):\n",
        "\tif node is None:\n",
        "\t\treturn\n",
        "\tprintInorder(node.left)\n",
        "\tprint(node.data, end=\" \")\n",
        "\tprintInorder(node.right)\n",
        "levelorder = [20, 8, 22, 4, 12, 10, 14]\n",
        "inorder = [4, 8, 10, 12, 14, 20, 22]\n",
        "ino_len = len(inorder)\n",
        "root = buildTree(levelorder, inorder)\n",
        "printInorder(root)\n"
      ],
      "metadata": {
        "colab": {
          "base_uri": "https://localhost:8080/"
        },
        "id": "VAJ4m2wwJnr5",
        "outputId": "63ef24c3-ac3f-4607-e4f9-f56684a452b8"
      },
      "execution_count": null,
      "outputs": [
        {
          "output_type": "stream",
          "name": "stdout",
          "text": [
            "4 8 10 12 14 20 22 "
          ]
        }
      ]
    },
    {
      "cell_type": "code",
      "source": [
        "class node:\n",
        "\tdef __init__(self, x):\n",
        "\t\tself.data = x\n",
        "\t\tself.left = None\n",
        "\t\tself.right = None \n",
        "# sum of values in tree with root as root\n",
        "def sum(root):\n",
        "\tif(root == None):\n",
        "\t\treturn 0\n",
        "\treturn (sum(root.left) +\n",
        "\t\t\troot.data +\n",
        "\t\t\tsum(root.right))\n",
        "def isSumTree(node):\n",
        "\tif(node == None or\n",
        "\t(node.left == None and\n",
        "\tnode.right == None)):\n",
        "\t\treturn 1\n",
        "\tls = sum(node.left)\n",
        "\trs = sum(node.right)\n",
        "\tif((node.data == ls + rs) and\n",
        "\t\tisSumTree(node.left) and\n",
        "\t\tisSumTree(node.right)):\n",
        "\t\treturn 1\n",
        "\treturn 0\n",
        "if __name__ == '__main__':\n",
        "\troot = node(26)\n",
        "\troot.left= node(10)\n",
        "\troot.right = node(3)\n",
        "\troot.left.left = node(4)\n",
        "\troot.left.right = node(6)\n",
        "\troot.right.right = node(3)\n",
        "\tif(isSumTree(root)):\n",
        "\t\tprint(\"The given tree is a SumTree \")\n",
        "\telse:\n",
        "\t\tprint(\"The given tree is not a SumTree \")\n"
      ],
      "metadata": {
        "id": "U4n709HTKLxv",
        "colab": {
          "base_uri": "https://localhost:8080/"
        },
        "outputId": "eff346a3-ea7e-4a42-f1be-5b58902769a2"
      },
      "execution_count": null,
      "outputs": [
        {
          "output_type": "stream",
          "name": "stdout",
          "text": [
            "The given tree is a SumTree \n"
          ]
        }
      ]
    },
    {
      "cell_type": "code",
      "source": [
        "class Dog:\n",
        "\n",
        "\t# class attribute\n",
        "\tattr1 = \"mammal\"\n",
        "\n",
        "\t# Instance attribute\n",
        "\tdef __init__(self, name):\n",
        "\t\tself.name = name\n",
        "\n",
        "# Driver code\n",
        "# Object instantiation\n",
        "Rodger = Dog(\"Rodger\")\n",
        "Tommy = Dog(\"Tommy\")\n",
        "\n",
        "# Accessing class attributes\n",
        "print(\"Rodger is a {}\".format(Dog.attr1))\n",
        "print(\"Tommy is also a {}\".format(Dog.attr1))\n",
        "\n",
        "# Accessing instance attributes\n",
        "print(\"My name is {}\".format(Rodger.name))\n",
        "print(\"My name is {}\".format(Tommy.name))\n"
      ],
      "metadata": {
        "colab": {
          "base_uri": "https://localhost:8080/",
          "height": 133
        },
        "id": "hiyJNcsXYgmG",
        "outputId": "322e5905-530b-4377-ec85-c834b12377d3"
      },
      "execution_count": null,
      "outputs": [
        {
          "output_type": "error",
          "ename": "SyntaxError",
          "evalue": "ignored",
          "traceback": [
            "\u001b[0;36m  File \u001b[0;32m\"<ipython-input-1-4938b60e02ae>\"\u001b[0;36m, line \u001b[0;32m17\u001b[0m\n\u001b[0;31m    print(\"Tommy is also a {}\".format(Tommy..attr1))\u001b[0m\n\u001b[0m                                            ^\u001b[0m\n\u001b[0;31mSyntaxError\u001b[0m\u001b[0;31m:\u001b[0m invalid syntax\n"
          ]
        }
      ]
    }
  ]
}