{
  "nbformat": 4,
  "nbformat_minor": 0,
  "metadata": {
    "colab": {
      "provenance": []
    },
    "kernelspec": {
      "name": "python3",
      "display_name": "Python 3"
    },
    "language_info": {
      "name": "python"
    }
  },
  "cells": [
    {
      "cell_type": "code",
      "execution_count": null,
      "metadata": {
        "colab": {
          "base_uri": "https://localhost:8080/"
        },
        "id": "5dhzqqmcxxfT",
        "outputId": "55ef2ce3-8e5a-4041-c181-c895e8ee0ab2"
      },
      "outputs": [
        {
          "output_type": "stream",
          "name": "stdout",
          "text": [
            "Yes\n"
          ]
        }
      ],
      "source": [
        "#program to check whether a  given Binary Tree is Perfect or not\n",
        "class newNode:\n",
        "\tdef __init__(self, k):\n",
        "\t\tself.key = k\n",
        "\t\tself.right = self.left = None\n",
        "def findADepth(node):\n",
        "\td = 0\n",
        "\twhile (node != None):\n",
        "\t\td += 1\n",
        "\t\tnode = node.left\n",
        "\treturn d\n",
        "def isPerfectRec(root, d, level = 0):\n",
        "\tif (root == None):\n",
        "\t\treturn True\n",
        "\tif (root.left == None and root.right == None):\n",
        "\t\treturn (d == level + 1)\n",
        "\tif (root.left == None or root.right == None):\n",
        "\t\treturn False\n",
        "\treturn (isPerfectRec(root.left, d, level + 1) and\n",
        "\t\t\tisPerfectRec(root.right, d, level + 1))\n",
        "def isPerfect(root):\n",
        "\td = findADepth(root)\n",
        "\treturn isPerfectRec(root, d)\n",
        "if __name__ == '__main__':\n",
        "\troot = None\n",
        "\troot = newNode(10)\n",
        "\troot.left = newNode(20)\n",
        "\troot.right = newNode(30)\n",
        "\troot.left.left = newNode(40)\n",
        "\troot.left.right = newNode(50)\n",
        "\troot.right.left = newNode(60)\n",
        "\troot.right.right = newNode(70)\n",
        "\n",
        "\tif (isPerfect(root)):\n",
        "\t\tprint(\"Yes\")\n",
        "\telse:\n",
        "\t\tprint(\"No\")"
      ]
    },
    {
      "cell_type": "code",
      "source": [
        "# Python3 program to check if there\n",
        "# exist an edge whose removal creates\n",
        "# two trees of same size\n",
        "\n",
        "# utility function to create a new node\n",
        "class newNode:\n",
        "\tdef __init__(self, x):\n",
        "\t\tself.data = x\n",
        "\t\tself.left = self.right = None\n",
        "\n",
        "# To calculate size of tree\n",
        "# with given root\n",
        "def count(root):\n",
        "\tif (root == None):\n",
        "\t\treturn 0\n",
        "\treturn (count(root.left) +\n",
        "\t\t\tcount(root.right) + 1)\n",
        "\n",
        "# This function returns true if there\n",
        "# is an edge whose removal can divide\n",
        "# the tree in two halves n is size of tree\n",
        "def checkRec(root, n):\n",
        "\t\n",
        "\t# Base cases\n",
        "\tif (root == None):\n",
        "\t\treturn False\n",
        "\n",
        "\t# Check for root\n",
        "\tif (count(root) == n - count(root)):\n",
        "\t\treturn True\n",
        "\n",
        "\t# Check for rest of the nodes\n",
        "\treturn (checkRec(root.left, n) or\n",
        "\t\t\tcheckRec(root.right, n))\n",
        "\n",
        "# This function mainly uses checkRec()\n",
        "def check(root):\n",
        "\t\n",
        "\t# Count total nodes in given tree\n",
        "\tn = count(root)\n",
        "\n",
        "\t# Now recursively check all nodes\n",
        "\treturn checkRec(root, n)\n",
        "\n",
        "# Driver code\n",
        "if __name__ == '__main__':\n",
        "\troot = newNode(5)\n",
        "\troot.left = newNode(1)\n",
        "\troot.right = newNode(6)\n",
        "\troot.left.left = newNode(3)\n",
        "\troot.right.left = newNode(7)\n",
        "\troot.right.right = newNode(4)\n",
        "\n",
        "\tif check(root):\n",
        "\t\tprint(\"YES\")\n",
        "\telse:\n",
        "\t\tprint(\"NO\")\n",
        "\t\t\n",
        "\n"
      ],
      "metadata": {
        "colab": {
          "base_uri": "https://localhost:8080/"
        },
        "id": "lVZA-p1nzN7n",
        "outputId": "9b1b7067-55fb-4edf-e985-7e690f2a88d6"
      },
      "execution_count": null,
      "outputs": [
        {
          "output_type": "stream",
          "name": "stdout",
          "text": [
            "YES\n"
          ]
        }
      ]
    },
    {
      "cell_type": "code",
      "source": [
        "# Python3 program to find the diameter of binary tree\n",
        "\n",
        "# A binary tree node\n",
        "\n",
        "\n",
        "class Node:\n",
        "\n",
        "\t# Constructor to create a new node\n",
        "\tdef __init__(self, data):\n",
        "\t\tself.data = data\n",
        "\t\tself.left = None\n",
        "\t\tself.right = None\n",
        "\n",
        "\n",
        "# The function Compute the \"height\" of a tree. Height is the\n",
        "# number of nodes along the longest path from the root node\n",
        "# down to the farthest leaf node.\n",
        "\n",
        "def height(node):\n",
        "\n",
        "\t# Base Case : Tree is empty\n",
        "\tif node is None:\n",
        "\t\treturn 0\n",
        "\n",
        "\t# If tree is not empty then height = 1 + max of left\n",
        "\t# height and right heights\n",
        "\treturn 1 + max(height(node.left), height(node.right))\n",
        "\n",
        "# Function to get the diameter of a binary tree\n",
        "\n",
        "\n",
        "def diameter(root):\n",
        "\n",
        "\t# Base Case when tree is empty\n",
        "\tif root is None:\n",
        "\t\treturn 0\n",
        "\n",
        "\t# Get the height of left and right sub-trees\n",
        "\tlheight = height(root.left)\n",
        "\trheight = height(root.right)\n",
        "\n",
        "\t# Get the diameter of left and right sub-trees\n",
        "\tldiameter = diameter(root.left)\n",
        "\trdiameter = diameter(root.right)\n",
        "\n",
        "\t# Return max of the following tree:\n",
        "\t# 1) Diameter of left subtree\n",
        "\t# 2) Diameter of right subtree\n",
        "\t# 3) Height of left subtree + height of right subtree +1\n",
        "\treturn max(lheight + rheight + 1, max(ldiameter, rdiameter))\n",
        "\n",
        "\n",
        "# Driver Code\n",
        "if __name__ == \"__main__\":\n",
        "\t\"\"\"\n",
        "\tConstructed binary tree is\n",
        "\t\t\t\t1\n",
        "\t\t\t/ \\\n",
        "\t\t\t2\t 3\n",
        "\t\t/ \\\n",
        "\t\t4\t 5\n",
        "\t\"\"\"\n",
        "\n",
        "\troot = Node(1)\n",
        "\troot.left = Node(2)\n",
        "\troot.right = Node(3)\n",
        "\troot.left.left = Node(4)\n",
        "\troot.left.right = Node(5)\n",
        "\n",
        "\t# Function Call\n",
        "\tprint(diameter(root))\n",
        "\n",
        "\n"
      ],
      "metadata": {
        "colab": {
          "base_uri": "https://localhost:8080/"
        },
        "id": "HEp_8xKlzTjE",
        "outputId": "f80c9d16-c1e0-42af-b8d4-b3c8c0eec041"
      },
      "execution_count": null,
      "outputs": [
        {
          "output_type": "stream",
          "name": "stdout",
          "text": [
            "4\n"
          ]
        }
      ]
    }
  ]
}