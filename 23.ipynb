{
  "nbformat": 4,
  "nbformat_minor": 0,
  "metadata": {
    "colab": {
      "provenance": []
    },
    "kernelspec": {
      "name": "python3",
      "display_name": "Python 3"
    },
    "language_info": {
      "name": "python"
    }
  },
  "cells": [
    {
      "cell_type": "code",
      "execution_count": null,
      "metadata": {
        "colab": {
          "base_uri": "https://localhost:8080/"
        },
        "id": "aymChriOHRYq",
        "outputId": "1b0d5bf2-0a33-42ed-ec4f-0e9494f8f49d"
      },
      "outputs": [
        {
          "output_type": "stream",
          "name": "stdout",
          "text": [
            "Inorder traversal before insertion: 7 11 10 15 9 8 \n",
            "Inorder traversal after insertion: 7 11 12 10 15 9 8 "
          ]
        }
      ],
      "source": [
        "# Python program to insert element in binary tree\n",
        "class newNode():\n",
        "\tdef __init__(self, data):\n",
        "\t\tself.key = data\n",
        "\t\tself.left = None\n",
        "\t\tself.right = None\n",
        "\"\"\" Inorder traversal of a binary tree\"\"\"\n",
        "def inorder(temp):\n",
        "\tif (not temp):\n",
        "\t\treturn\n",
        "\tinorder(temp.left)\n",
        "\tprint(temp.key,end = \" \")\n",
        "\tinorder(temp.right)\n",
        "\"\"\"function to insert element in binary tree \"\"\"\n",
        "def insert(temp,key):\n",
        "\tif not temp:\n",
        "\t\troot = newNode(key)\n",
        "\t\treturn\n",
        "\tq = []\n",
        "\tq.append(temp)\n",
        "\twhile (len(q)):\n",
        "\t\ttemp = q[0]\n",
        "\t\tq.pop(0)\n",
        "\t\tif (not temp.left):\n",
        "\t\t\ttemp.left = newNode(key)\n",
        "\t\t\tbreak\n",
        "\t\telse:\n",
        "\t\t\tq.append(temp.left)\n",
        "\n",
        "\t\tif (not temp.right):\n",
        "\t\t\ttemp.right = newNode(key)\n",
        "\t\t\tbreak\n",
        "\t\telse:\n",
        "\t\t\tq.append(temp.right)\n",
        "if __name__ == '__main__':\n",
        "\troot = newNode(10)\n",
        "\troot.left = newNode(11)\n",
        "\troot.left.left = newNode(7)\n",
        "\troot.right = newNode(9)\n",
        "\troot.right.left = newNode(15)\n",
        "\troot.right.right = newNode(8)\n",
        "\tprint(\"Inorder traversal before insertion:\", end = \" \")\n",
        "\tinorder(root)\n",
        "\tkey = 12\n",
        "\tinsert(root, key)\n",
        "\tprint()\n",
        "\tprint(\"Inorder traversal after insertion:\", end = \" \")\n",
        "\tinorder(root)\n"
      ]
    },
    {
      "cell_type": "code",
      "source": [
        "# Python3 program to illustrate deletion in a Binary Tree\n",
        "class Node:\n",
        "\tdef __init__(self, data):\n",
        "\t\tself.data = data\n",
        "\t\tself.left = None\n",
        "\t\tself.right = None\n",
        "# Inorder traversal of a binary tree\n",
        "def inorder(temp):\n",
        "\tif(not temp):\n",
        "\t\treturn\n",
        "\tinorder(temp.left)\n",
        "\tprint(temp.data, end=\" \")\n",
        "\tinorder(temp.right)\n",
        "# function to delete the given deepest node (d_node) in binary tree\n",
        "def deleteDeepest(root, d_node):\n",
        "\tq = []\n",
        "\tq.append(root)\n",
        "\twhile(len(q)):\n",
        "\t\ttemp = q.pop(0)\n",
        "\t\tif temp is d_node:\n",
        "\t\t\ttemp = None\n",
        "\t\t\treturn\n",
        "\t\tif temp.right:\n",
        "\t\t\tif temp.right is d_node:\n",
        "\t\t\t\ttemp.right = None\n",
        "\t\t\t\treturn\n",
        "\t\t\telse:\n",
        "\t\t\t\tq.append(temp.right)\n",
        "\t\tif temp.left:\n",
        "\t\t\tif temp.left is d_node:\n",
        "\t\t\t\ttemp.left = None\n",
        "\t\t\t\treturn\n",
        "\t\t\telse:\n",
        "\t\t\t\tq.append(temp.left)\n",
        "# function to delete element in binary tree\n",
        "def deletion(root, key):\n",
        "\tif root == None:\n",
        "\t\treturn None\n",
        "\tif root.left == None and root.right == None:\n",
        "\t\tif root.key == key:\n",
        "\t\t\treturn None\n",
        "\t\telse:\n",
        "\t\t\treturn root\n",
        "\tkey_node = None\n",
        "\tq = []\n",
        "\tq.append(root)\n",
        "\ttemp = None\n",
        "\twhile(len(q)):\n",
        "\t\ttemp = q.pop(0)\n",
        "\t\tif temp.data == key:\n",
        "\t\t\tkey_node = temp\n",
        "\t\tif temp.left:\n",
        "\t\t\tq.append(temp.left)\n",
        "\t\tif temp.right:\n",
        "\t\t\tq.append(temp.right)\n",
        "\tif key_node:\n",
        "\t\tx = temp.data\n",
        "\t\tdeleteDeepest(root, temp)\n",
        "\t\tkey_node.data = x\n",
        "\treturn root\n",
        "if __name__ == '__main__':\n",
        "\troot = Node(10)\n",
        "\troot.left = Node(11)\n",
        "\troot.left.left = Node(7)\n",
        "\troot.left.right = Node(12)\n",
        "\troot.right = Node(9)\n",
        "\troot.right.left = Node(15)\n",
        "\troot.right.right = Node(8)\n",
        "\tinorder(root)\n",
        "\tkey = 11\n",
        "\troot = deletion(root, key)\n",
        "\tprint()\n",
        "\tprint(\"after deletion: \", end = \"\")\n",
        "\tinorder(root)\n",
        "\n"
      ],
      "metadata": {
        "colab": {
          "base_uri": "https://localhost:8080/"
        },
        "id": "BW1yNAJTHsMg",
        "outputId": "ff8ccad6-fbb9-4299-bec2-fb7ae2c55289"
      },
      "execution_count": null,
      "outputs": [
        {
          "output_type": "stream",
          "name": "stdout",
          "text": [
            "7 11 12 10 15 9 8 \n",
            "after deletion: 7 8 12 10 15 9 "
          ]
        }
      ]
    },
    {
      "cell_type": "code",
      "source": [
        "# program to check if two nodes in a binary tree are cousins\n",
        "class Node:\n",
        "\tdef __init__(self, data):\n",
        "\t\tself.data = data\n",
        "\t\tself.left = None\n",
        "\t\tself.right = None\n",
        "def isSibling(root, a , b):\n",
        "\tif root is None:\n",
        "\t\treturn 0\n",
        "\treturn ((root.left == a and root.right ==b) or\n",
        "\t\t\t(root.left == b and root.right == a)or\n",
        "\t\t\tisSibling(root.left, a, b) or\n",
        "\t\t\tisSibling(root.right, a, b))\n",
        "def level(root, ptr, lev):\n",
        "\tif root is None :\n",
        "\t\treturn 0\n",
        "\tif root == ptr:\n",
        "\t\treturn lev\n",
        "\tl = level(root.left, ptr, lev+1)\n",
        "\tif l != 0:\n",
        "\t\treturn l\n",
        "\treturn level(root.right, ptr, lev+1)\n",
        "def isCousin(root,a, b):\n",
        "\tif ((level(root,a,1) == level(root, b, 1)) and\n",
        "\t\t\tnot (isSibling(root, a, b))):\n",
        "\t\treturn 1\n",
        "\telse:\n",
        "\t\treturn 0\n",
        "root = Node(1)\n",
        "root.left = Node(2)\n",
        "root.right = Node(3)\n",
        "root.left.left = Node(4)\n",
        "root.left.right = Node(5)\n",
        "root.left.right.right = Node(15)\n",
        "root.right.left = Node(6)\n",
        "root.right.right = Node(7)\n",
        "root.right.left.right = Node(8)\n",
        "node1 = root.left.right\n",
        "node2 = root.right.right\n",
        "print (\"Yes\" if isCousin(root, node1, node2) == 1 else \"No\")\n",
        "\n",
        "\n"
      ],
      "metadata": {
        "colab": {
          "base_uri": "https://localhost:8080/"
        },
        "id": "xfs994a4xBb4",
        "outputId": "62c209a2-c721-466a-8e52-3388ac7dd8c5"
      },
      "execution_count": null,
      "outputs": [
        {
          "output_type": "stream",
          "name": "stdout",
          "text": [
            "Yes\n"
          ]
        }
      ]
    }
  ]
}