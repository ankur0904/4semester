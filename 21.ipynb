{
  "nbformat": 4,
  "nbformat_minor": 0,
  "metadata": {
    "colab": {
      "provenance": []
    },
    "kernelspec": {
      "name": "python3",
      "display_name": "Python 3"
    },
    "language_info": {
      "name": "python"
    }
  },
  "cells": [
    {
      "cell_type": "code",
      "execution_count": null,
      "metadata": {
        "colab": {
          "base_uri": "https://localhost:8080/"
        },
        "id": "fxkleaZC_HPa",
        "outputId": "638b6315-5706-4acc-e659-f979de3b4cd2"
      },
      "outputs": [
        {
          "output_type": "stream",
          "name": "stdout",
          "text": [
            "\n",
            "Postorder traversal of binary tree is\n",
            "4\n",
            "5\n",
            "2\n",
            "3\n",
            "1\n"
          ]
        }
      ],
      "source": [
        "class Node:\n",
        "\tdef __init__(self, key):\n",
        "\t\tself.left = None\n",
        "\t\tself.right = None\n",
        "\t\tself.val = key\n",
        "def printPostorder(root):\n",
        "\tif root:\n",
        "\t\tprintPostorder(root.left)\n",
        "\t\tprintPostorder(root.right)\n",
        "\t\tprint(root.val)\n",
        "root = Node(1)\n",
        "root.left = Node(2)\n",
        "root.right = Node(3)\n",
        "root.left.left = Node(4)\n",
        "root.left.right = Node(5)\n",
        "print (\"\\nPostorder traversal of binary tree is\")\n",
        "printPostorder(root)\n"
      ]
    },
    {
      "cell_type": "code",
      "source": [
        "#level order traversal of Binary Tree\n",
        "class Node:\n",
        "\tdef __init__(self, key):\n",
        "\t\tself.data = key\n",
        "\t\tself.left = None\n",
        "\t\tself.right = None\n",
        "def printLevelOrder(root):\n",
        "\th = height(root)\n",
        "\tfor i in range(1, h+1):\n",
        "\t\tprintCurrentLevel(root, i)\n",
        "def printCurrentLevel(root, level):\n",
        "\tif root is None:\n",
        "\t\treturn\n",
        "\tif level == 1:\n",
        "\t\tprint(root.data, end=\" \")\n",
        "\telif level > 1:\n",
        "\t\tprintCurrentLevel(root.left, level-1)\n",
        "\t\tprintCurrentLevel(root.right, level-1)\n",
        "def height(node):\n",
        "\tif node is None:\n",
        "\t\treturn 0\n",
        "\telse:\n",
        "\t\tlheight = height(node.left)\n",
        "\t\trheight = height(node.right)\n",
        "\t\tif lheight > rheight:\n",
        "\t\t\treturn lheight+1\n",
        "\t\telse:\n",
        "\t\t\treturn rheight+1\n",
        "root = Node(1)\n",
        "root.left = Node(2)\n",
        "root.right = Node(3)\n",
        "root.left.left = Node(4)\n",
        "root.left.right = Node(5)\n",
        "print(\"Level order traversal of binary tree is -\")\n",
        "printLevelOrder(root)\n"
      ],
      "metadata": {
        "colab": {
          "base_uri": "https://localhost:8080/"
        },
        "id": "_DjOOuiSCccR",
        "outputId": "77265df8-9ddb-423d-fe1a-8c668bfb6a9d"
      },
      "execution_count": null,
      "outputs": [
        {
          "output_type": "stream",
          "name": "stdout",
          "text": [
            "Level order traversal of binary tree is -\n",
            "1 2 3 4 5 "
          ]
        }
      ]
    },
    {
      "cell_type": "code",
      "source": [
        "# program to find the maximum depth of tree\n",
        "class Node:\n",
        "\tdef __init__(self, data):\n",
        "\t\tself.data = data\n",
        "\t\tself.left = None\n",
        "\t\tself.right = None\n",
        "def maxDepth(node):\n",
        "\tif node is None:\n",
        "\t\treturn 0\n",
        "\telse:\n",
        "\t\tlDepth = maxDepth(node.left)\n",
        "\t\trDepth = maxDepth(node.right)\n",
        "\t\tif (lDepth > rDepth):\n",
        "\t\t\treturn lDepth+1\n",
        "\t\telse:\n",
        "\t\t\treturn rDepth+1\n",
        "root = Node(1)\n",
        "root.left = Node(2)\n",
        "root.right = Node(3)\n",
        "root.left.left = Node(4)\n",
        "root.left.right = Node(5)\n",
        "print(\"Height of tree is \",(maxDepth(root)))"
      ],
      "metadata": {
        "colab": {
          "base_uri": "https://localhost:8080/"
        },
        "id": "GrUYOTQ9CzMk",
        "outputId": "8831f4ac-09b1-4f90-fa3e-e69d2056a97f"
      },
      "execution_count": null,
      "outputs": [
        {
          "output_type": "stream",
          "name": "stdout",
          "text": [
            "Height of tree is  3\n"
          ]
        }
      ]
    }
  ]
}