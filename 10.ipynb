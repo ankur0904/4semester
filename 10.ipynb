{
  "nbformat": 4,
  "nbformat_minor": 0,
  "metadata": {
    "colab": {
      "provenance": []
    },
    "kernelspec": {
      "name": "python3",
      "display_name": "Python 3"
    },
    "language_info": {
      "name": "python"
    }
  },
  "cells": [
    {
      "cell_type": "code",
      "execution_count": null,
      "metadata": {
        "colab": {
          "base_uri": "https://localhost:8080/"
        },
        "id": "xdagTAIscXcw",
        "outputId": "8a4ab8be-8481-4db9-efcf-b0c227c7ca04"
      },
      "outputs": [
        {
          "output_type": "stream",
          "name": "stdout",
          "text": [
            "akihsna"
          ]
        }
      ],
      "source": [
        "#Reverse individual words\n",
        "def reverseWords(string):\n",
        "\tst = list()\n",
        "\tfor i in range(len(string)):\n",
        "\t\tif string[i] != \" \":\n",
        "\t\t\tst.append(string[i])\n",
        "\t\telse:\n",
        "\t\t\twhile len(st) > 0:\n",
        "\t\t\t\tprint(st[-1], end=\"\")\n",
        "\t\t\t\tst.pop()\n",
        "\t\t\tprint(end=\" \")\n",
        "\twhile len(st) > 0:\n",
        "\t\tprint(st[-1], end=\"\")\n",
        "\t\tst.pop()\n",
        "string = \"anshika\"\n",
        "reverseWords(string)"
      ]
    },
    {
      "cell_type": "code",
      "source": [
        "#delete middle element from stack\n",
        "import math\n",
        "st = []\n",
        "st.append('1')\n",
        "st.append('2')\n",
        "st.append('3')\n",
        "st.append('4')\n",
        "st.append('5')\n",
        "st.append('6')\n",
        "st.append('7')\n",
        "v = []\n",
        "while(len(st) > 0):\n",
        "\tv.append(st[0])\n",
        "\tdel st[0]\n",
        "n = len(v)\n",
        "if n%2==0:\n",
        "\ttarget = math.floor(n/2)\n",
        "\tfor i in range(0, n):\n",
        "\t\tif i==target:\n",
        "\t\t\tcontinue\n",
        "\t\tst.append(v[i])\n",
        "else:\n",
        "\ttarget = math.floor(n/2)\n",
        "\tfor i in range(0, n):\n",
        "\t\tif i==target:\n",
        "\t\t\tcontinue\n",
        "\t\tst.append(v[i])\n",
        "print(\"Printing stack after deletion of middle:\", end = \" \")\n",
        "while (len(st) > 0):\n",
        "\tp = st[0]\n",
        "\tdel st[0]\n",
        "\tprint(p, end = \" \")\n",
        "\t\n"
      ],
      "metadata": {
        "colab": {
          "base_uri": "https://localhost:8080/"
        },
        "id": "4PjjiS7te9a2",
        "outputId": "c39730ce-6ab0-432f-e183-088ab2545493"
      },
      "execution_count": null,
      "outputs": [
        {
          "output_type": "stream",
          "name": "stdout",
          "text": [
            "Printing stack after deletion of middle: 1 2 3 5 6 7 "
          ]
        }
      ]
    },
    {
      "cell_type": "code",
      "source": [
        "# Python3 program to reverse the integer\n",
        "st = []\n",
        "def push_digits(number):\n",
        "\twhile (number != 0):\n",
        "\t\tst.append(number % 10)\n",
        "\t\tnumber = int(number / 10)\n",
        "def reverse_number(number):\n",
        "\tpush_digits(number)\n",
        "\treverse =0\n",
        "\ti = 1\n",
        "\twhile (len(st) > 0):\n",
        "\t\treverse = reverse + (st[len(st) - 1] * i)\n",
        "\t\tst.pop()\n",
        "\t\ti = i * 10\n",
        "\treturn reverse\n",
        "number = 39997\n",
        "print(reverse_number(number))\n",
        "\n",
        "\n"
      ],
      "metadata": {
        "colab": {
          "base_uri": "https://localhost:8080/"
        },
        "id": "pYM1L0yCfemP",
        "outputId": "c92d42ca-389d-42f5-f78e-dc17cbe2e270"
      },
      "execution_count": null,
      "outputs": [
        {
          "output_type": "stream",
          "name": "stdout",
          "text": [
            "79993\n"
          ]
        }
      ]
    }
  ]
}