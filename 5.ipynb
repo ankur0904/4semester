{
  "nbformat": 4,
  "nbformat_minor": 0,
  "metadata": {
    "colab": {
      "provenance": []
    },
    "kernelspec": {
      "name": "python3",
      "display_name": "Python 3"
    },
    "language_info": {
      "name": "python"
    }
  },
  "cells": [
    {
      "cell_type": "code",
      "execution_count": null,
      "metadata": {
        "colab": {
          "base_uri": "https://localhost:8080/"
        },
        "id": "JMqfUDcOrxSU",
        "outputId": "48a71a7d-ec96-49a4-c024-2cb9b7a25f10"
      },
      "outputs": [
        {
          "output_type": "stream",
          "name": "stdout",
          "text": [
            "Element is present at index 3\n"
          ]
        }
      ],
      "source": [
        "def search(arr, N, x):\n",
        " \n",
        "    for i in range(0, N):\n",
        "        if (arr[i] == x):\n",
        "            return i\n",
        "    return -1\n",
        "if __name__ == \"__main__\":\n",
        "    arr = [2, 3, 4, 10, 40]\n",
        "    x = 10\n",
        "    N = len(arr)\n",
        " \n",
        "    # Function call\n",
        "    result = search(arr, N, x)\n",
        "    if(result == -1):\n",
        "        print(\"Element is not present in array\")\n",
        "    else:\n",
        "        print(\"Element is present at index\", result)"
      ]
    },
    {
      "cell_type": "code",
      "source": [
        "def binarySearch(arr, l, r, x):\n",
        " \n",
        "    while l <= r:\n",
        " \n",
        "        mid = l + (r - l) // 2\n",
        " \n",
        "        # Check if x is present at mid\n",
        "        if arr[mid] == x:\n",
        "            return mid\n",
        " \n",
        "        # If x is greater, ignore left half\n",
        "        elif arr[mid] < x:\n",
        "            l = mid + 1\n",
        " \n",
        "        # If x is smaller, ignore right half\n",
        "        else:\n",
        "            r = mid - 1\n",
        " \n",
        "    # If we reach here, then the element\n",
        "    # was not present\n",
        "    return -1\n",
        " \n",
        " \n",
        "# Driver Code\n",
        "arr = [2, 3, 4, 10, 40]\n",
        "x = 10\n",
        " \n",
        "# Function call\n",
        "result = binarySearch(arr, 0, len(arr)-1, x)\n",
        " \n",
        "if result != -1:\n",
        "    print(\"Element is present at index % d\" % result)\n",
        "else:\n",
        "    print(\"Element is not present in array\")"
      ],
      "metadata": {
        "colab": {
          "base_uri": "https://localhost:8080/"
        },
        "id": "27DQYeM_snI_",
        "outputId": "e2d877e3-bc68-400b-ae49-7c917ec14bbe"
      },
      "execution_count": null,
      "outputs": [
        {
          "output_type": "stream",
          "name": "stdout",
          "text": [
            "Element is present at index  3\n"
          ]
        }
      ]
    },
    {
      "cell_type": "code",
      "source": [
        "l=eval(input())\n",
        "x=int(input())\n",
        "if x in l:\n",
        "  print(\"found at\",l.index(x))\n",
        "else:\n",
        "  print(\"not found\")"
      ],
      "metadata": {
        "colab": {
          "base_uri": "https://localhost:8080/"
        },
        "id": "gf353fVftSZ4",
        "outputId": "6365c315-fbef-409f-dc2c-f03bb8120010"
      },
      "execution_count": null,
      "outputs": [
        {
          "output_type": "stream",
          "name": "stdout",
          "text": [
            "[1,2,3,4,5]\n",
            "3\n",
            "found at 2\n"
          ]
        }
      ]
    }
  ]
}