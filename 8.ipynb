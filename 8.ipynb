{
  "nbformat": 4,
  "nbformat_minor": 0,
  "metadata": {
    "colab": {
      "provenance": []
    },
    "kernelspec": {
      "name": "python3",
      "display_name": "Python 3"
    },
    "language_info": {
      "name": "python"
    }
  },
  "cells": [
    {
      "cell_type": "code",
      "execution_count": null,
      "metadata": {
        "colab": {
          "base_uri": "https://localhost:8080/"
        },
        "id": "SamhIXarX0UJ",
        "outputId": "c5add762-39b4-4c49-ed3e-3610ce2d8233"
      },
      "outputs": [
        {
          "output_type": "stream",
          "name": "stdout",
          "text": [
            "[0, 1, 2, 6, 7, 8, 9]\n"
          ]
        }
      ],
      "source": [
        "def partition(array, low, high):\n",
        "  pivot = array[high]\n",
        "  i = low - 1\n",
        "  for j in range(low, high):\n",
        "    if array[j] <= pivot:\n",
        "      i = i + 1\n",
        "      (array[i], array[j]) = (array[j], array[i])\n",
        "  (array[i + 1], array[high]) = (array[high], array[i + 1])\n",
        "  return i + 1\n",
        "def quickSort(array, low, high):\n",
        "  if low < high:\n",
        "    pi = partition(array, low, high)\n",
        "    quickSort(array, low, pi - 1)\n",
        "    quickSort(array, pi + 1, high)\n",
        "data = [8, 7, 2, 1, 0, 9, 6]\n",
        "size = len(data)\n",
        "quickSort(data, 0, size - 1)\n",
        "print(data)"
      ]
    },
    {
      "cell_type": "code",
      "source": [
        "#Print the elements of an array in the decreasing frequency if 2 numbers have the same frequency then print the one which came first\n",
        "class ele:\n",
        "    def __init__(self):\n",
        " \n",
        "        self.count = 0\n",
        "        self.index = 0\n",
        "        self.val = 0\n",
        "def mycomp(a):\n",
        "    return a.val\n",
        "def mycomp2(a):\n",
        "    return (a.count, -a.index)\n",
        "def sortByFrequency(arr, n):\n",
        "    element = [None for _ in range(n)]\n",
        "    for i in range(n):\n",
        "        element[i] = ele()\n",
        "        element[i].index = i\n",
        "        element[i].count = 0\n",
        "        element[i].val = arr[i]\n",
        "    element.sort(key=mycomp)\n",
        "    element[0].count = 1\n",
        "    for i in range(1, n):\n",
        "      if (element[i].val == element[i - 1].val):\n",
        "            element[i].count += element[i - 1].count + 1\n",
        "            element[i - 1].count = -1\n",
        "            element[i].index = element[i - 1].index\n",
        "    else:\n",
        "            element[i].count = 1\n",
        "    element.sort(key=mycomp2)\n",
        "    index = 0\n",
        "    for i in range(n - 1, -1, -1):\n",
        "        if (element[i].count != -1):\n",
        "            for j in range(element[i].count):\n",
        "                arr[index] = element[i].val\n",
        "                index += 1\n",
        "arr = [2, 5, 2, 6, -1, 9999999, 5, 8, 8, 8]\n",
        "n = len(arr)\n",
        "sortByFrequency(arr, n)\n",
        "print(*arr)\n",
        " "
      ],
      "metadata": {
        "colab": {
          "base_uri": "https://localhost:8080/"
        },
        "id": "YNBNsWWbam42",
        "outputId": "9ce71c7b-b93e-46bf-e5f0-eda3b516a565"
      },
      "execution_count": null,
      "outputs": [
        {
          "output_type": "stream",
          "name": "stdout",
          "text": [
            "8 8 2 5 -1 9999999 5 8 8 8\n"
          ]
        }
      ]
    },
    {
      "cell_type": "code",
      "source": [
        "def sort012(a, arr_size):\n",
        "    lo = 0\n",
        "    hi = arr_size - 1\n",
        "    mid = 0\n",
        "    while mid <= hi:\n",
        "        if a[mid] == 0:\n",
        "            a[lo], a[mid] = a[mid], a[lo]\n",
        "            lo = lo + 1\n",
        "            mid = mid + 1\n",
        "        elif a[mid] == 1:\n",
        "            mid = mid + 1\n",
        "        else:\n",
        "            a[mid], a[hi] = a[hi], a[mid]\n",
        "            hi = hi - 1\n",
        "    return a\n",
        "def printArray(a):\n",
        "    for k in a:\n",
        "        print(k, end=' ')\n",
        "arr = [0, 1, 1, 0, 1, 2, 1, 2, 0, 0, 0, 1]\n",
        "arr_size = len(arr)\n",
        "arr = sort012(arr, arr_size)\n",
        "printArray(arr)"
      ],
      "metadata": {
        "colab": {
          "base_uri": "https://localhost:8080/"
        },
        "id": "l1_Tx6K8c58v",
        "outputId": "28c18db7-2a04-4ed1-8664-82d230a228d4"
      },
      "execution_count": null,
      "outputs": [
        {
          "output_type": "stream",
          "name": "stdout",
          "text": [
            "0 0 0 0 0 1 1 1 1 1 2 2 "
          ]
        }
      ]
    }
  ]
}