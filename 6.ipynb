{
  "nbformat": 4,
  "nbformat_minor": 0,
  "metadata": {
    "colab": {
      "provenance": []
    },
    "kernelspec": {
      "name": "python3",
      "display_name": "Python 3"
    },
    "language_info": {
      "name": "python"
    }
  },
  "cells": [
    {
      "cell_type": "code",
      "execution_count": null,
      "metadata": {
        "colab": {
          "base_uri": "https://localhost:8080/"
        },
        "id": "EIG4HJY4zQ_6",
        "outputId": "30c77ff2-18b0-426f-e6d6-ef9be72c5781"
      },
      "outputs": [
        {
          "output_type": "stream",
          "name": "stdout",
          "text": [
            "0 -1 1\n",
            "2 -3 1\n"
          ]
        }
      ],
      "source": [
        "def findTriplets(arr, n):\n",
        " \n",
        "    found = False\n",
        "    for i in range(0, n-2):\n",
        " \n",
        "        for j in range(i+1, n-1):\n",
        " \n",
        "            for k in range(j+1, n):\n",
        " \n",
        "                if (arr[i] + arr[j] + arr[k] == 0):\n",
        "                    print(arr[i], arr[j], arr[k])\n",
        "                    found = True\n",
        "\n",
        "    if (found == False):\n",
        "        print(\" not exist \")\n",
        " \n",
        " \n",
        "\n",
        "arr = [0, -1, 2, -3, 1]\n",
        "n = len(arr)\n",
        "findTriplets(arr, n)"
      ]
    },
    {
      "cell_type": "code",
      "source": [
        "def check(arr, n, ind):\n",
        "    i = ind - 1\n",
        "    j = ind + 1\n",
        " \n",
        "    while i >= 0:\n",
        "        if arr[i] > arr[ind]:\n",
        "            return False\n",
        "        i -= 1\n",
        " \n",
        "    while j < n:\n",
        "        if arr[j] < arr[ind]:\n",
        "            return False\n",
        "        j += 1\n",
        " \n",
        "    return True\n",
        "def findElement(arr, n):\n",
        "   \n",
        "    for i in range(1, n - 1):\n",
        "        if check(arr, n, i):\n",
        "            return i\n",
        " \n",
        "  \n",
        "    return -1\n",
        " \n",
        " \n",
        "arr = [5, 1, 4, 3, 6, 8, 10, 7, 9]\n",
        "n = len(arr)\n",
        "print(\"Index of the element is\", findElement(arr, n))"
      ],
      "metadata": {
        "colab": {
          "base_uri": "https://localhost:8080/"
        },
        "id": "uuVFjYpa0AEl",
        "outputId": "4d1666b6-9135-46bd-c2eb-d8c17149802d"
      },
      "execution_count": null,
      "outputs": [
        {
          "output_type": "stream",
          "name": "stdout",
          "text": [
            "Index of the element is 4\n"
          ]
        }
      ]
    },
    {
      "cell_type": "code",
      "source": [
        "def morethanNbyK(arr, n, k):\n",
        "    x = n // k\n",
        "    freq = {}\n",
        "    for i in range(n):\n",
        "        if arr[i] in freq:\n",
        "            freq[arr[i]] += 1\n",
        "        else:\n",
        "            freq[arr[i]] = 1\n",
        "    for i in freq:\n",
        " \n",
        "       \n",
        "        if (freq[i] > x):\n",
        " \n",
        "            print(i)\n",
        "arr = [1, 1, 2, 2, 3, 5, 4, 2, 2, 3, 1, 1, 1]\n",
        "n = len(arr)\n",
        "k = 4\n",
        "morethanNbyK(arr, n, k)"
      ],
      "metadata": {
        "colab": {
          "base_uri": "https://localhost:8080/"
        },
        "id": "Ixivj2Ob0XGX",
        "outputId": "7a8d9082-708a-4a42-d786-6deb706f099d"
      },
      "execution_count": null,
      "outputs": [
        {
          "output_type": "stream",
          "name": "stdout",
          "text": [
            "1\n",
            "2\n"
          ]
        }
      ]
    }
  ]
}